
{
 "cells": [
  {
   "cell_type": "markdown",
   "id": "b8534465",
   "metadata": {},
   "source": [
    "$$--------------------------------------------$$\n",
    "# 🪶🪶 Prince Kumar\n",
    " $$--------------------------------------------$$"
   ]
  },
  {
   "cell_type": "markdown",
   "id": "1ec2ad3c",
   "metadata": {},
   "source": [
    "#  $$🎀Introduction of Machine Learning  and His parts.🎀$$"
   ]
  },
  {
   "cell_type": "markdown",
   "id": "3949f66c",
   "metadata": {},
   "source": [
    "## $$Q1. 💡What is Machine Learning ?$$\n",
    "* Ans -> Machine Learning is a subset of the Artificial Intelligence.\n",
    "* Machine Learning also learn form the data and improve the prediction performance on new data.\n",
    " Machine Learning is said as a subset of artificial intelligence that is mainly concerned with the \n",
    " development of algorithms which allow a computer to learn from the data and past experiences on their own. \n",
    " The term machine learning was first introduced  by Arthur Samuel in 1959. We can define it in a summarized way as:\n",
    " ##  $$OR$$\n",
    " * With the help of sample historical data, which is known as training data, machine learning algorithms build a mathematical model that helps in making predictions or decisions without being explicitly programmed. Machine learning brings computer science and statistics together for creating predictive models. Machine learning constructs or uses the algorithms that learn from historical data. The more we will provide the information, the higher will be the performance.\n",
    "##  $$OR$$\n",
    "* A machine has the ability to learn if it can improve its performance by gaining more data."
   ]
  },
  {
   "cell_type": "markdown",
   "id": "accb374d",
   "metadata": {},
   "source": [
    "# $💡 Features of Machine Learning:$\n",
    "1. Machine learning uses data to detect various patterns in a given dataset.\n",
    "2. It can learn from past data and improve automatically.\n",
    "3. It is a data-driven technology.\n",
    "4. Machine learning is much similar to data mining as it also deals with the huge amount of the data."
   ]
  },
  {
   "cell_type": "markdown",
   "id": "c4b0db69",
   "metadata": {},
   "source": [
    "# $$ 🎀Types Of Machine Learning🎀 $$"
   ]
  },
  {
   "cell_type": "markdown",
   "id": "c04e64b2",
   "metadata": {},
   "source": [
    "## $1. Supervised Learning$ \n",
    "##  $2. Unsupervised Learning$\n",
    "## $3. Reinforcement Learning$"
   ]
  },
  {
   "cell_type": "markdown",
   "id": "5db12c23",
   "metadata": {},
   "source": [
    "#  $$ Q1💡 What   is Supervised Machine Learning ?$$"
   ]
  },
  {
   "cell_type": "markdown",
   "id": "ef88313b",
   "metadata": {},
   "source": [
    "* Supervised learning is a type of machine learning method in which we provide sample labeled data to the machine learning system in order to train it, and on that basis, it predicts the output.\n",
    "\n",
    "* The system creates a model using labeled data to understand the datasets and learn about each data, once the training and processing are done then we test the model by providing a sample data to check whether it is predicting the exact output or not."
   ]
  },
  {
   "cell_type": "markdown",
   "id": "d0225841",
   "metadata": {},
   "source": [
    "# $$🎀There are Two types of Supervised Machine Learning🎀$$"
   ]
  },
  {
   "cell_type": "markdown",
   "id": "2c69bceb",
   "metadata": {},
   "source": [
    "## $$1.  Classification ,--------------,2. Regression$$"
   ]
  },
  {
   "cell_type": "markdown",
   "id": "61afb75b",
   "metadata": {},
   "source": [
    "#  $ 1. Classification$\n",
    "* The Classification algorithm is a Supervised Learning technique that is used to identify the category of new observations on the basis of training data.\n",
    "1. Logistic Regression\n",
    "2. K-Nearest Neighbors\n",
    "3. Naive Bayes\n",
    "4. SVC\n",
    "5. Decision Tree Classifier\n",
    "6. Random Forest Classifier\n",
    "7. AdaBoost Classifer\n",
    "8. Gradient Boosting classifer\n",
    "9. Extreme Gradient Boosting classifer\n",
    "10. Catboost Classifer"
   ]
  },
  {
   "cell_type": "markdown",
   "id": "61f7e914",
   "metadata": {},
   "source": [
    "# $2.  Regression $\n",
    "* Regression, on the other hand, is also a supervised learning task that aims to predict a continuous or numeric value as the output or dependent variable. In regression, the target variable can take on a range of values, and the goal is to learn a model that can estimate the relationship between the independent variables and the dependent variable, allowing for the prediction of numeric outcomes.\n",
    "1. Linear Regression\n",
    "2. K-Nearest Neighbors\n",
    "3. SVR\n",
    "4. Decision Tree Regression\n",
    "5. Random Forest Regressor\n",
    "6. AdaBoost Regressor\n",
    "7. Gradient Boosting Regressor\n",
    "8. Extreme Gradient Boosting Regressor\n",
    "9. Catboost Regressor"
   ]
  },
  {
   "cell_type": "markdown",
   "id": "8215780c",
   "metadata": {},
   "source": [
    "#  $$ Q1💡 What   is Unsupervised Machine Learning ?$$"
   ]
  },
  {
   "cell_type": "markdown",
   "id": "e9a47bb0",
   "metadata": {},
   "source": [
    "Unsupervised machine learning is a type of machine learning approach where the algorithm learns patterns, structures, or relationships in data without any labeled or predefined target variables. In other words, it explores the inherent structure and organization within the data itself. The goal of unsupervised learning is often to discover hidden patterns, clusters, or associations in the data."
   ]
  },
  {
   "cell_type": "code",
   "execution_count": null,
   "id": "2e3dbfd5",
   "metadata": {},
   "outputs": [],
   "source": []
  }
 ],
 "metadata": {
  "kernelspec": {
   "display_name": "Python 3 (ipykernel)",
   "language": "python",
   "name": "python3"
  },
  "language_info": {
   "codemirror_mode": {
    "name": "ipython",
    "version": 3
   },
   "file_extension": ".py",
   "mimetype": "text/x-python",
   "name": "python",
   "nbconvert_exporter": "python",
   "pygments_lexer": "ipython3",
   "version": "3.10.9"
  }
 },
 "nbformat": 4,
 "nbformat_minor": 5
}
